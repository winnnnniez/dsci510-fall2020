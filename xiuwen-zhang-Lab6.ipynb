{
 "cells": [
  {
   "cell_type": "markdown",
   "metadata": {
    "collapsed": true,
    "pycharm": {
     "is_executing": false,
     "name": "#%% md\n"
    }
   },
   "source": [
    "Lab 6\n",
    "---\n",
    "Hello All,\n",
    "\n",
    "I am Dhrumil Soni, the CP of the course DSCI 510. Welcome to the lab.\n",
    "\n",
    "Guidelines for the Lab:\n",
    "- You will be given the lab assignment in the start of the lab. You're supposed to complete it by the deadline stated on DEN. Should be usually on Friday Midnight.  \n",
    "\n",
    "- You've to complete the assignments individually. If you are having trouble completing the assignment do let me know, I will clear your doubts and guide you but I'll not write code for you and no one else should :) !!!  \n",
    "\n",
    "- You have to fill in the code to this notebook and upload it to your repository. And simply, submit the link to the repo. Also, the repository name has to be in the form '(First name)-(Last name)-lab(Lab Number)'. All characters in lowercase. For example, first lab for me would be 'dhrumil-soni-lab1'  \n",
    "\n",
    "- You are encouraged to look up resources online like python docs and stackoverflow. But, you are encouraged to look up the topics and not the questions themselves  \n",
    "\n",
    "- Your last submission will be counted towards your grade on DEN and do not edit the repository after the deadline  "
   ]
  },
  {
   "cell_type": "markdown",
   "metadata": {},
   "source": [
    "[10 points]\n",
    "---\n",
    "In this lab, you've to implement 3 classes.  \n",
    "\n",
    "Detailed information of these classes is as below:  \n",
    "Class name - **dataset**  \n",
    "Parent Class - None  \n",
    "Methods Details:  \n",
    "```\n",
    "__init__(): In the constructor, simply initialize a list  \n",
    "__getitem__(): In this method, return the value of list at the index given in the argument. If the value is not present, return None  \n",
    "__len__(): In this method, return the length of the list  \n",
    "append_data(): In this method, append the value given in the argument to the list defined in the constructor. No return value.   \n",
    "```\n"
   ]
  },
  {
   "cell_type": "code",
   "execution_count": 1,
   "metadata": {},
   "outputs": [],
   "source": [
    "# Implement dataset class in this cell\n",
    "class dataset():\n",
    "    def __init__(self):\n",
    "        self.lst = list()\n",
    "        \n",
    "    def __getitem__(self, i):\n",
    "        return self.lst[i] if self.lst else None\n",
    "        \n",
    "    def __len__(self):\n",
    "        return len(self.lst)\n",
    "    \n",
    "    def append_data(self, new_value):\n",
    "        self.lst.append(new_value)\n",
    "    \n",
    "    def append_dataset(self, new_dataset):\n",
    "        self.lst += new_dataset.lst "
   ]
  },
  {
   "cell_type": "code",
   "execution_count": 2,
   "metadata": {},
   "outputs": [
    {
     "name": "stdout",
     "output_type": "stream",
     "text": [
      "0\n",
      "None\n",
      "4\n",
      "True\n"
     ]
    }
   ],
   "source": [
    "# code to test the class above\n",
    "data = dataset()\n",
    "print(len(data)) # should give 0 (equivalent to calling data.__len__())\n",
    "print(data[1541111]) # This should obviously give None (equivalent to calling data.__getitem__(1541111))\n",
    "data.append_data(1)\n",
    "data.append_data((1, 2))\n",
    "data.append_data([1, 2])\n",
    "data1 = dataset()\n",
    "data.append_data(data1)\n",
    "print(len(data)) # Should give 4\n",
    "data2 = data[3]\n",
    "print(data1==data2)# Should be true"
   ]
  },
  {
   "cell_type": "markdown",
   "metadata": {},
   "source": [
    "[5 points]\n",
    "---\n",
    "Class - **txt_dataset**  \n",
    "Parent Class - **dataset**  \n",
    "Method Details:  \n",
    "\n",
    "```\n",
    "__init__(): In the constructor, take arguments filename(to access the txt file), splitter(used to split each line of the dataset) and encoding(used to convert text to a sequence of bytes) and implement :\n",
    "1. Call the constructor of the dataset class\n",
    "2. Using the parent class dataset, add the values in the txt file to the list in the dataset. Value would be the tuple of all values found by splitting the line of the file.\n",
    "append_file(): take arguments filename, splitter and encoding and add this file's data to the existing dataset\n",
    "```"
   ]
  },
  {
   "cell_type": "code",
   "execution_count": 7,
   "metadata": {},
   "outputs": [],
   "source": [
    "# Implement txt_dataset class in this cell\n",
    "class txt_dataset(dataset):\n",
    "    def __init__(self, filename, splitter, encoding):\n",
    "        super().__init__()\n",
    "        self.append_file(filename, splitter, encoding)\n",
    "        \n",
    "    def append_file(self, filename, splitter, encoding):\n",
    "        with open(filename, encoding=encoding) as txtfile:\n",
    "            for content in txtfile:\n",
    "                self.append_data(tuple(content.split(splitter)))"
   ]
  },
  {
   "cell_type": "code",
   "execution_count": 8,
   "metadata": {},
   "outputs": [
    {
     "name": "stdout",
     "output_type": "stream",
     "text": [
      "('small_airport', 'Fulton Airport', '1100', '\"-97.8180194, 34.9428028\"\\n')\n",
      "55817\n",
      "55821\n"
     ]
    }
   ],
   "source": [
    "# code to test the class above\n",
    "txt_data = txt_dataset('Airports.txt', '\\t', 'utf8')\n",
    "print(txt_data[5]) # ('small_airport', 'Fulton Airport', '1100', '\"-97.8180194, 34.9428028\"\\n')\n",
    "print(len(txt_data)) # 55817\n",
    "txt_data.append_data(1)\n",
    "txt_data.append_data(1)\n",
    "txt_data.append_data(1)\n",
    "txt_data.append_data(1)\n",
    "print(len(txt_data)) # 55821"
   ]
  },
  {
   "cell_type": "markdown",
   "metadata": {},
   "source": [
    "[5 points]\n",
    "---\n",
    "Class - **csv_dataset**  \n",
    "Parent Class - **dataset**  \n",
    "Method Details:  \n",
    "```\n",
    "__init__(): In the constructor, take arguments filename(to access the csv file), splitter(used to split each line of the dataset) and encoding(used to convert text to a sequence of bytes) and implement :\n",
    "1. Call the constructor of the dataset class\n",
    "2. Using the parent class dataset, add the values in the csv file to the list in the dataset. Value would be the tuple of all values found by splitting the line of the file.\n",
    "append_file(): take arguments filename, splitter and encoding and add this file's data to the existing dataset\n",
    "```\n",
    "Note: You can import csv module for implementing this. "
   ]
  },
  {
   "cell_type": "code",
   "execution_count": 20,
   "metadata": {},
   "outputs": [],
   "source": [
    "# Implement csv_dataset in this cell\n",
    "import csv\n",
    "\n",
    "class csv_dataset(dataset):\n",
    "    def __init__(self, filename, splitter, encoding):\n",
    "        super().__init__()\n",
    "        self.append_file(filename, splitter, encoding)\n",
    "        \n",
    "    def append_file(self, filename, splitter, encoding):\n",
    "        with open(filename, encoding=encoding) as csvfile:\n",
    "            spamreader = csv.reader(csvfile, delimiter=splitter)\n",
    "            for content in spamreader:\n",
    "                self.append_data(tuple(content))"
   ]
  },
  {
   "cell_type": "code",
   "execution_count": 42,
   "metadata": {},
   "outputs": [
    {
     "name": "stdout",
     "output_type": "stream",
     "text": [
      "408\n",
      "409\n",
      "817\n"
     ]
    }
   ],
   "source": [
    "# code to test the class above\n",
    "csv_data = csv_dataset('cars.csv', ';', 'utf8')\n",
    "print(len(csv_data)) # 408\n",
    "csv_data.append_data((1,2,3,4,5))\n",
    "print(len(csv_data)) # 409\n",
    "csv_data.append_file('cars.csv', ';', 'utf8')\n",
    "print(len(csv_data)) # 817"
   ]
  },
  {
   "cell_type": "markdown",
   "metadata": {},
   "source": [
    "[5 points]\n",
    "---\n",
    "Now, for the functions above, add the functionality of adding a dataset to another dataset. Essentially, using this functionality, one would able to add all data of one dataset to another dataset and use it. It would have one argument of type class dataset and no return value as it adds the parameter dataset's value to self's dataset. \n",
    "\n",
    "You have to decide where this function would go from the above three classes and implement it.  \n",
    "\n",
    "For this question, the bottom line is that the below cell should work."
   ]
  },
  {
   "cell_type": "code",
   "execution_count": 22,
   "metadata": {},
   "outputs": [
    {
     "name": "stdout",
     "output_type": "stream",
     "text": [
      "56638\n"
     ]
    }
   ],
   "source": [
    "csv_data.append_dataset(txt_data)\n",
    "print(len(csv_data)) # 56638"
   ]
  },
  {
   "cell_type": "markdown",
   "metadata": {},
   "source": [
    "[5 points]\n",
    "---\n",
    "Write function get_maximum_ratio() that takes one argument which could be of type dataset, csv_dataset or txt_dataset. Considering that the values in these dataset's list are tuples, return the value with ratio of maximum occurences at position 0 in the value tuple to the total number of values. "
   ]
  },
  {
   "cell_type": "code",
   "execution_count": 37,
   "metadata": {},
   "outputs": [],
   "source": [
    "def get_maximum_ratio(data):\n",
    "    dct, total, max_occr = {}, 0, -1\n",
    "    for row in data.lst:\n",
    "        dct[row[0]] = dct[row[0]] + 1 if row[0] in dct else 1\n",
    "        if dct[row[0]] > max_occr:\n",
    "            max_occr = dct[row[0]]\n",
    "        total += 1\n",
    "    return max_occr / total if total else 0"
   ]
  },
  {
   "cell_type": "code",
   "execution_count": 38,
   "metadata": {},
   "outputs": [
    {
     "name": "stdout",
     "output_type": "stream",
     "text": [
      "0.6136123403264239\n",
      "0.022058823529411766\n"
     ]
    }
   ],
   "source": [
    "new_data = txt_dataset('Airports.txt', '\\t', 'utf8')\n",
    "print(get_maximum_ratio(new_data)) # 0.613...\n",
    "new_data = csv_dataset('cars.csv', ';', 'utf8')\n",
    "print(get_maximum_ratio(new_data)) # 0.0220..."
   ]
  },
  {
   "cell_type": "markdown",
   "metadata": {},
   "source": [
    "FAQs  \n",
    "---\n",
    "Q. How to open and read a csv file?  \n",
    "A. Code for the same is as below:  \n",
    "```\n",
    "import csv\n",
    "\n",
    "# Open file as below in the variable named file (considering encoding to be 'utf8' and file to be at 'filename.csv')\n",
    "file = open('filename.csv', encoding='utf8')\n",
    "\n",
    "# create a reader for the file(considering delimiter to be ';')\n",
    "reader = csv.reader(file, delimiter=';')\n",
    "\n",
    "# parse on the reader\n",
    "for line in reader:\n",
    "    # Each line in the file\n",
    "    print(line)\n",
    "```\n",
    "Q. How to call super/parent class's constructor?  \n",
    "A. Syntax: ```super().__init__()```  \n"
   ]
  },
  {
   "cell_type": "markdown",
   "metadata": {},
   "source": [
    "Grading Rubric: Points are as mentioned in the cells above. All is Binary. "
   ]
  },
  {
   "cell_type": "markdown",
   "metadata": {},
   "source": [
    "Bonus Question[5 points]\n",
    "---\n",
    "Let f(x) be the greatest odd divisor of x, where x is a positive integer. You are given a positive integer N.  \n",
    "\n",
    "Return f(1)+f(2)+........+f(N).  \n",
    "\n",
    "Input Format  \n",
    "one integer N.  \n",
    "\n",
    "Constraints  \n",
    "N will be between 1 and 1000000000, inclusive.  \n",
    "Output Format  \n",
    "Print single line as the summation of function from 1 to N.  \n",
    "\n",
    "Example:  \n",
    "Input  \n",
    "7  \n",
    "Output  \n",
    "21  \n",
    "Explanation:  \n",
    "f(1)+f(2)+f(3)+f(4)+f(5)+f(6)+f(7)=1+1+3+1+5+3+7=21  \n",
    "\n",
    "---\n",
    "Grading Rubric: Binary"
   ]
  },
  {
   "cell_type": "code",
   "execution_count": 7,
   "metadata": {},
   "outputs": [],
   "source": [
    "def odd_divisor_sum(N):\n",
    "    f = lambda x : x if x%2 else f(x/2)\n",
    "    summation = 0\n",
    "    for i in range(1, N+1):\n",
    "        summation += f(i)\n",
    "    return int(summation)"
   ]
  },
  {
   "cell_type": "code",
   "execution_count": 8,
   "metadata": {},
   "outputs": [
    {
     "data": {
      "text/plain": [
       "21"
      ]
     },
     "execution_count": 8,
     "metadata": {},
     "output_type": "execute_result"
    }
   ],
   "source": [
    "odd_divisor_sum(7)"
   ]
  }
 ],
 "metadata": {
  "kernelspec": {
   "display_name": "Python 3",
   "language": "python",
   "name": "python3"
  },
  "language_info": {
   "codemirror_mode": {
    "name": "ipython",
    "version": 3
   },
   "file_extension": ".py",
   "mimetype": "text/x-python",
   "name": "python",
   "nbconvert_exporter": "python",
   "pygments_lexer": "ipython3",
   "version": "3.7.5"
  },
  "pycharm": {
   "stem_cell": {
    "cell_type": "raw",
    "metadata": {
     "collapsed": false
    },
    "source": []
   }
  }
 },
 "nbformat": 4,
 "nbformat_minor": 1
}
